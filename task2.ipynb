{
 "cells": [
  {
   "cell_type": "code",
   "execution_count": 1,
   "id": "915fe80a",
   "metadata": {},
   "outputs": [],
   "source": [
    "import os\n",
    "import cv2\n",
    "import torch\n",
    "import torch.nn as nn\n",
    "from torch.utils.data import Dataset, DataLoader\n",
    "import pandas as pd\n",
    "import numpy as np\n",
    "from efficientnet_pytorch import EfficientNet\n",
    "from albumentations import Compose, Normalize\n",
    "from albumentations.pytorch import ToTensorV2"
   ]
  },
  {
   "cell_type": "code",
   "execution_count": null,
   "id": "bdf3c1f6",
   "metadata": {},
   "outputs": [],
   "source": [
    "class Config:\n",
    "    # Data directories\n",
    "    TRAIN_IMG_DIR = \"D:/HUS_third_year/ki_2/TGMT/project/project/archive/ISIC_2019_Training_Input/processed_train_isic2019\"\n",
    "    TEST_IMG_DIR = \"D:/HUS_third_year/ki_2/TGMT/project/project/archive/test/processed_test_isic2019_2\"\n",
    "    TRAIN_GT_CSV = \"D:/HUS_third_year/ki_2/TGMT/project/project/archive/ISIC_2019_Training_GroundTruth.csv\"\n",
    "    TEST_GT_CSV = \"D:/HUS_third_year/ki_2/TGMT/project/project/ISIC_2019_Test_GroundTruth.csv\"\n",
    "    TRAIN_META_CSV = \"D:/HUS_third_year/ki_2/TGMT/project/project/archive/ISIC_2019_Training_Metadata.csv\"\n",
    "    TEST_META_CSV = \"D:/HUS_third_year/ki_2/TGMT/project/project/ISIC_2019_Test_Metadata.csv\"\n",
    "    OUTPUT_DIR = 'D:/HUS_third_year/ki_2/TGMT/project/project/outputs/task2'\n",
    "    os.makedirs(OUTPUT_DIR, exist_ok=True)\n",
    "\n",
    "    # Training parameters\n",
    "    IMG_SIZE = 600\n",
    "    BATCH_SIZE = 16\n",
    "    EPOCHS = 30  # Reduced for metadata training\n",
    "    LR = 1e-3   # Lower LR for metadata training\n",
    "    DEVICE = 'cuda' if torch.cuda.is_available() else 'cpu'\n",
    "\n",
    "    # Classes (8 diagnoses + UNK)\n",
    "    CLASSES = ['MEL', 'NV', 'BCC', 'AK', 'BKL', 'DF', 'VASC', 'SCC', 'UNK']\n",
    "    N_CLASSES = len(CLASSES)\n",
    "\n",
    "    # Metadata parameters\n",
    "    ANATOMICAL_SITES = ['head/neck', 'upper extremity', 'lower extremity', 'torso', 'palms/soles', 'oral/genital', 'lateral torso', 'anterior torso']\n",
    "    N_SITES = len(ANATOMICAL_SITES)\n",
    "    N_SEX = 2  # Male, Female\n",
    "    META_FEATURES = N_SITES + N_SEX + 1  # Sites + Sex + Age"
   ]
  },
  {
   "cell_type": "code",
   "execution_count": 3,
   "id": "b4329f3e",
   "metadata": {},
   "outputs": [],
   "source": [
    "class Task2Dataset(Dataset):\n",
    "    def __init__(self, df_gt, df_meta, img_dir, transforms=None, meta_dropout_prob=0.1):\n",
    "        \"\"\"Dataset loads preprocessed images and metadata, applies transforms and metadata encoding\"\"\"\n",
    "        self.df = df_gt.merge(df_meta, on='image_id', how='left').reset_index(drop=True)\n",
    "        self.img_dir = img_dir\n",
    "        self.transforms = transforms\n",
    "        self.meta_dropout_prob = meta_dropout_prob\n",
    "        self.site_to_idx = {site: i for i, site in enumerate(Config.ANATOMICAL_SITES)}\n",
    "\n",
    "    def __len__(self):\n",
    "        return len(self.df)\n",
    "\n",
    "    def __getitem__(self, idx):\n",
    "        row = self.df.loc[idx]\n",
    "        img_path = os.path.join(self.img_dir, row['image_id'] + '.jpg')\n",
    "        img = cv2.imread(img_path)\n",
    "        img = cv2.cvtColor(img, cv2.COLOR_BGR2RGB)\n",
    "\n",
    "        # Metadata encoding\n",
    "        site = row.get('anatomical_site_general', np.nan)\n",
    "        sex = row.get('sex', np.nan)\n",
    "        age = row.get('age_approx', np.nan)\n",
    "\n",
    "        # One-hot encoding for anatomical site\n",
    "        site_vec = np.zeros(Config.N_SITES, dtype=np.float32)\n",
    "        if isinstance(site, str) and np.random.rand() > self.meta_dropout_prob:\n",
    "            site_vec[self.site_to_idx.get(site, 0)] = 1.0\n",
    "\n",
    "        # One-hot encoding for sex\n",
    "        sex_vec = np.zeros(Config.N_SEX, dtype=np.float32)\n",
    "        if isinstance(sex, str) and np.random.rand() > self.meta_dropout_prob:\n",
    "            sex_vec[0 if sex == 'male' else 1] = 1.0\n",
    "\n",
    "        # Numerical encoding for age\n",
    "        age_val = -5.0 if np.isnan(age) or np.random.rand() < self.meta_dropout_prob else float(age)\n",
    "\n",
    "        meta = np.concatenate([site_vec, sex_vec, [age_val]], axis=0)\n",
    "\n",
    "        if self.transforms:\n",
    "            img = self.transforms(image=img)['image']\n",
    "\n",
    "        return img, torch.tensor(meta, dtype=torch.float32), row['label']"
   ]
  },
  {
   "cell_type": "code",
   "execution_count": 4,
   "id": "0b49d13a",
   "metadata": {},
   "outputs": [],
   "source": [
    "class Task2Net(nn.Module):\n",
    "    def __init__(self, backbone='efficientnet-b3', pretrained_model_path=None):\n",
    "        super().__init__()\n",
    "        # Load pretrained CNN and freeze weights\n",
    "        self.cnn = EfficientNet.from_name(backbone)\n",
    "        if pretrained_model_path:\n",
    "            state_dict = torch.load(pretrained_model_path)\n",
    "            self.cnn.load_state_dict(state_dict)\n",
    "        for param in self.cnn.parameters():\n",
    "            param.requires_grad = False\n",
    "\n",
    "        in_f = self.cnn._fc.in_features\n",
    "        self.cnn._fc = nn.Identity()  # Remove final FC layer\n",
    "\n",
    "        # Metadata network\n",
    "        self.meta_net = nn.Sequential(\n",
    "            nn.Linear(Config.META_FEATURES, 256),\n",
    "            nn.BatchNorm1d(256),\n",
    "            nn.ReLU(),\n",
    "            nn.Dropout(0.4),\n",
    "            nn.Linear(256, 256),\n",
    "            nn.BatchNorm1d(256),\n",
    "            nn.ReLU(),\n",
    "            nn.Dropout(0.4)\n",
    "        )\n",
    "\n",
    "        # Combined network\n",
    "        self.combined = nn.Sequential(\n",
    "            nn.Linear(in_f + 256, 1024),\n",
    "            nn.BatchNorm1d(1024),\n",
    "            nn.ReLU(),\n",
    "            nn.Dropout(0.4),\n",
    "            nn.Linear(1024, Config.N_CLASSES)\n",
    "        )\n",
    "\n",
    "    def forward(self, img, meta):\n",
    "        img_features = self.cnn(img)\n",
    "        meta_features = self.meta_net(meta)\n",
    "        combined = torch.cat([img_features, meta_features], dim=1)\n",
    "        return self.combined(combined)\n"
   ]
  },
  {
   "cell_type": "code",
   "execution_count": 5,
   "id": "38cd9424",
   "metadata": {},
   "outputs": [],
   "source": [
    "def train_one_epoch(model, loader, criterion, optimizer):\n",
    "    model.train()\n",
    "    total_loss = 0\n",
    "    for imgs, metas, labels in loader:\n",
    "        imgs, metas, labels = imgs.to(Config.DEVICE), metas.to(Config.DEVICE), labels.to(Config.DEVICE)\n",
    "        optimizer.zero_grad()\n",
    "        outputs = model(imgs, metas)\n",
    "        loss = criterion(outputs, labels)\n",
    "        loss.backward()\n",
    "        optimizer.step()\n",
    "        total_loss += loss.item() * imgs.size(0)\n",
    "    return total_loss / len(loader.dataset)"
   ]
  },
  {
   "cell_type": "code",
   "execution_count": 6,
   "id": "86f658ab",
   "metadata": {},
   "outputs": [],
   "source": [
    "def evaluate(model, loader, criterion):\n",
    "    model.eval()\n",
    "    total_loss = 0\n",
    "    correct = 0\n",
    "    with torch.no_grad():\n",
    "        for imgs, metas, labels in loader:\n",
    "            imgs, metas, labels = imgs.to(Config.DEVICE), metas.to(Config.DEVICE), labels.to(Config.DEVICE)\n",
    "            outputs = model(imgs, metas)\n",
    "            loss = criterion(outputs, labels)\n",
    "            total_loss += loss.item() * imgs.size(0)\n",
    "            correct += (outputs.argmax(1) == labels).sum().item()\n",
    "    return total_loss / len(loader.dataset), correct / len(loader.dataset)"
   ]
  },
  {
   "cell_type": "code",
   "execution_count": null,
   "id": "ceba937a",
   "metadata": {},
   "outputs": [],
   "source": [
    "# Load ground-truth and metadata CSVs\n",
    "train_gt = pd.read_csv(Config.TRAIN_GT_CSV)\n",
    "train_gt.rename(columns={'image': 'image_id'}, inplace=True)\n",
    "train_gt['label'] = train_gt[Config.CLASSES].values.argmax(axis=1)"
   ]
  },
  {
   "cell_type": "code",
   "execution_count": null,
   "id": "41d51cd5",
   "metadata": {},
   "outputs": [],
   "source": [
    "test_gt = pd.read_csv(Config.TEST_GT_CSV)\n",
    "test_gt.rename(columns={'image': 'image_id'}, inplace=True)\n",
    "test_gt['label'] = test_gt[Config.CLASSES].values.argmax(axis=1)"
   ]
  },
  {
   "cell_type": "code",
   "execution_count": null,
   "id": "ed74a0d1",
   "metadata": {},
   "outputs": [],
   "source": [
    "train_meta = pd.read_csv(Config.TRAIN_META_CSV)\n",
    "test_meta = pd.read_csv(Config.TEST_META_CSV)"
   ]
  },
  {
   "cell_type": "code",
   "execution_count": null,
   "id": "bf5ba612",
   "metadata": {},
   "outputs": [],
   "source": [
    "# Transforms\n",
    "transforms = Compose([Normalize(), ToTensorV2()])"
   ]
  },
  {
   "cell_type": "code",
   "execution_count": null,
   "id": "af4c606d",
   "metadata": {},
   "outputs": [],
   "source": [
    "# DataLoaders\n",
    "train_loader = DataLoader(\n",
    "    Task2Dataset(train_gt, train_meta, Config.TRAIN_IMG_DIR, transforms=transforms),\n",
    "    batch_size=Config.BATCH_SIZE, shuffle=True, num_workers=4)"
   ]
  },
  {
   "cell_type": "code",
   "execution_count": null,
   "id": "82dd1dcc",
   "metadata": {},
   "outputs": [],
   "source": [
    "test_loader = DataLoader(\n",
    "    Task2Dataset(test_gt, test_meta, Config.TEST_IMG_DIR, transforms=transforms, meta_dropout_prob=0.0),\n",
    "    batch_size=Config.BATCH_SIZE, shuffle=False, num_workers=4)"
   ]
  },
  {
   "cell_type": "code",
   "execution_count": null,
   "id": "b2e95669",
   "metadata": {},
   "outputs": [],
   "source": [
    "# Model, load pretrained Task 1 weights\n",
    "model = Task2Net(pretrained_model_path=os.path.join('D:/HUS_third_year/ki_2/TGMT/project/project/outputs/task1', 'task1_final.pth')).to(Config.DEVICE)\n",
    "criterion = nn.CrossEntropyLoss()\n",
    "optimizer = torch.optim.Adam([p for p in model.parameters() if p.requires_grad], lr=Config.LR)"
   ]
  },
  {
   "cell_type": "code",
   "execution_count": null,
   "id": "5dc8c04f",
   "metadata": {},
   "outputs": [],
   "source": [
    "# Training loop\n",
    "for epoch in range(Config.EPOCHS):\n",
    "    train_loss = train_one_epoch(model, train_loader, criterion, optimizer)\n",
    "    print(f\"Epoch {epoch}: Train Loss={train_loss:.4f}\")"
   ]
  },
  {
   "cell_type": "code",
   "execution_count": null,
   "id": "097825c3",
   "metadata": {},
   "outputs": [],
   "source": [
    "# Save model\n",
    "torch.save(model.state_dict(), os.path.join(Config.OUTPUT_DIR, 'task2_final.pth'))"
   ]
  },
  {
   "cell_type": "code",
   "execution_count": null,
   "id": "14ec5ad4",
   "metadata": {},
   "outputs": [],
   "source": [
    "# Evaluate on test set\n",
    "model.load_state_dict(torch.load(os.path.join(Config.OUTPUT_DIR, 'task2_final.pth')))\n",
    "test_loss, test_acc = evaluate(model, test_loader, criterion)\n",
    "print(f\"Test Loss={test_loss:.4f}, Test Acc={test_acc:.4f}\")"
   ]
  }
 ],
 "metadata": {
  "kernelspec": {
   "display_name": "Python 3",
   "language": "python",
   "name": "python3"
  },
  "language_info": {
   "codemirror_mode": {
    "name": "ipython",
    "version": 3
   },
   "file_extension": ".py",
   "mimetype": "text/x-python",
   "name": "python",
   "nbconvert_exporter": "python",
   "pygments_lexer": "ipython3",
   "version": "3.12.10"
  }
 },
 "nbformat": 4,
 "nbformat_minor": 5
}
