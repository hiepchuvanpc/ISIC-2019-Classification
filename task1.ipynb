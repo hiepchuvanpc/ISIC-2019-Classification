{
 "cells": [
  {
   "cell_type": "code",
   "execution_count": 1,
   "id": "0a14659a",
   "metadata": {},
   "outputs": [],
   "source": [
    "import os\n",
    "import cv2\n",
    "import torch\n",
    "import torch.nn as nn\n",
    "from torch.utils.data import Dataset, DataLoader\n",
    "import pandas as pd\n",
    "from efficientnet_pytorch import EfficientNet\n",
    "from albumentations import Compose, Normalize\n",
    "from albumentations.pytorch import ToTensorV2"
   ]
  },
  {
   "cell_type": "code",
   "execution_count": 9,
   "id": "63bdfbd5",
   "metadata": {},
   "outputs": [],
   "source": [
    "class Config:\n",
    "    # Data directories\n",
    "    TRAIN_IMG_DIR = \"D:/HUS_third_year/ki_2/TGMT/project/project/archive/ISIC_2019_Training_Input/processed_train_isic2019\"\n",
    "    TEST_IMG_DIR  = \"D:/HUS_third_year/ki_2/TGMT/project/project/archive/test/processed_test_isic2019_2\"\n",
    "    TRAIN_GT_CSV  = \"D:/HUS_third_year/ki_2/TGMT/project/project/archive/ISIC_2019_Training_GroundTruth.csv\"\n",
    "    TEST_GT_CSV   = \"D:/HUS_third_year/ki_2/TGMT/project/project/ISIC_2019_Test_GroundTruth.csv\"\n",
    "    OUTPUT_DIR    = 'D:/HUS_third_year/ki_2/TGMT/project/project/outputs/task1'\n",
    "    os.makedirs(OUTPUT_DIR, exist_ok=True)\n",
    "\n",
    "    # Training parameters\n",
    "    IMG_SIZE    = 600\n",
    "    BATCH_SIZE  = 16\n",
    "    EPOCHS      = 30\n",
    "    LR          = 1e-3\n",
    "    DEVICE      = 'cuda' if torch.cuda.is_available() else 'cpu'\n",
    "\n",
    "    # Classes (8 diagnoses + UNK)\n",
    "    CLASSES = ['MEL','NV','BCC','AK','BKL','DF','VASC','SCC','UNK']\n",
    "    N_CLASSES = len(CLASSES)\n"
   ]
  },
  {
   "cell_type": "code",
   "execution_count": null,
   "id": "9b5603bc",
   "metadata": {},
   "outputs": [],
   "source": [
    "class Task1Dataset(Dataset):\n",
    "    def __init__(self, df, img_dir, transforms=None):\n",
    "        \"\"\"Dataset chỉ load ảnh đã được tiền xử lý sẵn và chuyển thành tensor\"\"\"\n",
    "        self.df = df.reset_index(drop=True)\n",
    "        self.img_dir = img_dir\n",
    "        self.transforms = transforms\n",
    "\n",
    "    def __len__(self):\n",
    "        return len(self.df)\n",
    "\n",
    "    def __getitem__(self, idx):\n",
    "        row = self.df.loc[idx]\n",
    "        img_path = os.path.join(self.img_dir, row['image_id'] + '.jpg')\n",
    "        img = cv2.imread(img_path)\n",
    "        img = cv2.cvtColor(img, cv2.COLOR_BGR2RGB)\n",
    "        if self.transforms:\n",
    "            img = self.transforms(image=img)['image']\n",
    "        return img, row['label']"
   ]
  },
  {
   "cell_type": "code",
   "execution_count": 11,
   "id": "d7484524",
   "metadata": {},
   "outputs": [],
   "source": [
    "class ImageNet(nn.Module):\n",
    "    def __init__(self, backbone='efficientnet-b3'):\n",
    "        super().__init__()\n",
    "        self.net = EfficientNet.from_name(backbone)\n",
    "        in_f = self.net._fc.in_features\n",
    "        self.net._fc = nn.Linear(in_f, Config.N_CLASSES)\n",
    "\n",
    "    def forward(self, x):\n",
    "        return self.net(x)"
   ]
  },
  {
   "cell_type": "code",
   "execution_count": 12,
   "id": "94197722",
   "metadata": {},
   "outputs": [],
   "source": [
    "def train_one_epoch(model, loader, criterion, optimizer):\n",
    "    model.train()\n",
    "    total_loss = 0\n",
    "    for imgs, labels in loader:\n",
    "        imgs, labels = imgs.to(Config.DEVICE), labels.to(Config.DEVICE)\n",
    "        optimizer.zero_grad()\n",
    "        outputs = model(imgs)\n",
    "        loss = criterion(outputs, labels)\n",
    "        loss.backward()\n",
    "        optimizer.step()\n",
    "        total_loss += loss.item() * imgs.size(0)\n",
    "    return total_loss / len(loader.dataset)"
   ]
  },
  {
   "cell_type": "code",
   "execution_count": 13,
   "id": "46da952a",
   "metadata": {},
   "outputs": [],
   "source": [
    "def evaluate(model, loader, criterion):\n",
    "    model.eval()\n",
    "    total_loss = 0\n",
    "    correct = 0\n",
    "    with torch.no_grad():\n",
    "        for imgs, labels in loader:\n",
    "            imgs, labels = imgs.to(Config.DEVICE), labels.to(Config.DEVICE)\n",
    "            outputs = model(imgs)\n",
    "            loss = criterion(outputs, labels)\n",
    "            total_loss += loss.item() * imgs.size(0)\n",
    "            correct += (outputs.argmax(1) == labels).sum().item()\n",
    "    return total_loss / len(loader.dataset), correct / len(loader.dataset)"
   ]
  },
  {
   "cell_type": "code",
   "execution_count": null,
   "id": "e5f87a95",
   "metadata": {},
   "outputs": [],
   "source": [
    "if __name__ == '__main__':\n",
    "    # Load ground-truth CSVs\n",
    "    # 1. Đọc CSV, chỉ rename cột image → image_id\n",
    "    train_gt = pd.read_csv(Config.TRAIN_GT_CSV)\n",
    "    train_gt.rename(columns={'image':'image_id'}, inplace=True)\n",
    "# 2. Tạo cột label bằng cách lấy index của giá trị 1 trong one-hot\n",
    "    train_gt['label'] = train_gt[Config.CLASSES].values.argmax(axis=1)\n",
    "\n",
    "# Tương tự với test_gt\n",
    "    test_gt = pd.read_csv(Config.TEST_GT_CSV)\n",
    "    test_gt.rename(columns={'image':'image_id'}, inplace=True)\n",
    "    test_gt['label'] = test_gt[Config.CLASSES].values.argmax(axis=1)\n",
    "\n",
    "\n",
    "    # Transforms chỉ Normalize và ToTensor\n",
    "    transforms = Compose([Normalize(), ToTensorV2()])\n",
    "\n",
    "    # DataLoaders cho train và test\n",
    "    train_loader = DataLoader(\n",
    "        Task1Dataset(train_gt, Config.TRAIN_IMG_DIR, transforms=transforms),\n",
    "        batch_size=Config.BATCH_SIZE, shuffle=True, num_workers=4)\n",
    "    test_loader = DataLoader(\n",
    "        Task1Dataset(test_gt, Config.TEST_IMG_DIR, transforms=transforms),\n",
    "        batch_size=Config.BATCH_SIZE, shuffle=False, num_workers=4)\n",
    "\n",
    "    # Model, loss, optimizer\n",
    "    model = ImageNet().to(Config.DEVICE)\n",
    "    criterion = nn.CrossEntropyLoss()\n",
    "    optimizer = torch.optim.Adam(model.parameters(), lr=Config.LR)\n",
    "\n",
    "    # Training loop (không split)\n",
    "    for epoch in range(Config.EPOCHS):\n",
    "        train_loss = train_one_epoch(model, train_loader, criterion, optimizer)\n",
    "        print(f\"Epoch {epoch}: Train Loss={train_loss:.4f}\")\n",
    "\n",
    "    # Lưu model cuối cùng\n",
    "    torch.save(model.state_dict(), os.path.join(Config.OUTPUT_DIR, 'task1_final.pth'))\n",
    "\n",
    "    # Đánh giá trên test set\n",
    "    model.load_state_dict(torch.load(os.path.join(Config.OUTPUT_DIR, 'task1_final.pth')))\n",
    "    test_loss, test_acc = evaluate(model, test_loader, criterion)\n",
    "    print(f\"Test Loss={test_loss:.4f}, Test Acc={test_acc:.4f}\")"
   ]
  }
 ],
 "metadata": {
  "kernelspec": {
   "display_name": "Python 3",
   "language": "python",
   "name": "python3"
  },
  "language_info": {
   "codemirror_mode": {
    "name": "ipython",
    "version": 3
   },
   "file_extension": ".py",
   "mimetype": "text/x-python",
   "name": "python",
   "nbconvert_exporter": "python",
   "pygments_lexer": "ipython3",
   "version": "3.12.10"
  }
 },
 "nbformat": 4,
 "nbformat_minor": 5
}
